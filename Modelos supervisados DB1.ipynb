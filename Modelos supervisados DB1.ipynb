{
 "cells": [
  {
   "cell_type": "code",
   "execution_count": 44,
   "metadata": {},
   "outputs": [],
   "source": [
    "import numpy as np\n",
    "import pandas as pd\n",
    "import matplotlib.pyplot as plt\n",
    "import seaborn as sns \n",
    "from scipy.stats import norm"
   ]
  },
  {
   "cell_type": "markdown",
   "metadata": {},
   "source": [
    "## Limpieza de datos"
   ]
  },
  {
   "cell_type": "code",
   "execution_count": 45,
   "metadata": {},
   "outputs": [
    {
     "name": "stdout",
     "output_type": "stream",
     "text": [
      "<class 'pandas.core.frame.DataFrame'>\n",
      "Int64Index: 9083 entries, 0 to 9082\n",
      "Data columns (total 31 columns):\n",
      "Unnamed: 0                            9083 non-null int64\n",
      "Cod_Producto                          9083 non-null int64\n",
      "id_Proveedor                          9083 non-null int64\n",
      "id_Sucursal                           9083 non-null int64\n",
      "Cod_Bodega                            9083 non-null int64\n",
      "Cod_Unidad_Negocio                    9083 non-null int64\n",
      "ano_Orden                             9083 non-null int64\n",
      "mes_Orden                             9083 non-null int64\n",
      "dia_Orden                             9083 non-null int64\n",
      "Cod_Centro_Operativo                  9083 non-null int64\n",
      "Cod_Centro_Costos                     9083 non-null int64\n",
      "Cod_Tipo_Documento                    9083 non-null object\n",
      "Numero_Orden_Compra                   9083 non-null object\n",
      "Linea_Orden_Compra                    9083 non-null int64\n",
      "Fecha_Entrega_Planeada                9083 non-null object\n",
      "Compra_Cantidad                       9083 non-null int64\n",
      "Compra_Pesos                          9083 non-null int64\n",
      "Compra_Moneda                         9083 non-null float64\n",
      "Compra_Precio_Unitario                9083 non-null int64\n",
      "Linea_a_Tiempo                        9083 non-null int64\n",
      "Linea_Completa                        9083 non-null int64\n",
      "Linea_Perfecta                        9083 non-null int64\n",
      "Lead_Time_Teorico_Compra              9083 non-null int64\n",
      "Lead_Time_Real_Max_Compra             9083 non-null int64\n",
      "Lead_Time_Real_Min_Compra             9083 non-null int64\n",
      "Conteo_Linea_Compra                   9083 non-null int64\n",
      "Recepcion_Cantidad_Recibida           9083 non-null int64\n",
      "Recepcion_Max_Fecha_Real              9083 non-null int64\n",
      "Recepcion_Cantidad_Primera_Entrega    9083 non-null int64\n",
      "Recepcion_Pesos_Primera_Entrega       9083 non-null int64\n",
      "Lead_Time_Primera_Entrega             9083 non-null int64\n",
      "dtypes: float64(1), int64(27), object(3)\n",
      "memory usage: 2.2+ MB\n"
     ]
    },
    {
     "data": {
      "text/html": [
       "<div>\n",
       "<style scoped>\n",
       "    .dataframe tbody tr th:only-of-type {\n",
       "        vertical-align: middle;\n",
       "    }\n",
       "\n",
       "    .dataframe tbody tr th {\n",
       "        vertical-align: top;\n",
       "    }\n",
       "\n",
       "    .dataframe thead th {\n",
       "        text-align: right;\n",
       "    }\n",
       "</style>\n",
       "<table border=\"1\" class=\"dataframe\">\n",
       "  <thead>\n",
       "    <tr style=\"text-align: right;\">\n",
       "      <th></th>\n",
       "      <th>Unnamed: 0</th>\n",
       "      <th>Cod_Producto</th>\n",
       "      <th>id_Proveedor</th>\n",
       "      <th>id_Sucursal</th>\n",
       "      <th>Cod_Bodega</th>\n",
       "      <th>Cod_Unidad_Negocio</th>\n",
       "      <th>ano_Orden</th>\n",
       "      <th>mes_Orden</th>\n",
       "      <th>dia_Orden</th>\n",
       "      <th>Cod_Centro_Operativo</th>\n",
       "      <th>...</th>\n",
       "      <th>Linea_Perfecta</th>\n",
       "      <th>Lead_Time_Teorico_Compra</th>\n",
       "      <th>Lead_Time_Real_Max_Compra</th>\n",
       "      <th>Lead_Time_Real_Min_Compra</th>\n",
       "      <th>Conteo_Linea_Compra</th>\n",
       "      <th>Recepcion_Cantidad_Recibida</th>\n",
       "      <th>Recepcion_Max_Fecha_Real</th>\n",
       "      <th>Recepcion_Cantidad_Primera_Entrega</th>\n",
       "      <th>Recepcion_Pesos_Primera_Entrega</th>\n",
       "      <th>Lead_Time_Primera_Entrega</th>\n",
       "    </tr>\n",
       "  </thead>\n",
       "  <tbody>\n",
       "    <tr>\n",
       "      <th>0</th>\n",
       "      <td>0</td>\n",
       "      <td>10403</td>\n",
       "      <td>387</td>\n",
       "      <td>1</td>\n",
       "      <td>71</td>\n",
       "      <td>4</td>\n",
       "      <td>2018</td>\n",
       "      <td>5</td>\n",
       "      <td>11</td>\n",
       "      <td>11</td>\n",
       "      <td>...</td>\n",
       "      <td>0</td>\n",
       "      <td>10</td>\n",
       "      <td>34</td>\n",
       "      <td>34</td>\n",
       "      <td>1</td>\n",
       "      <td>6</td>\n",
       "      <td>20180614</td>\n",
       "      <td>6</td>\n",
       "      <td>405072</td>\n",
       "      <td>34</td>\n",
       "    </tr>\n",
       "    <tr>\n",
       "      <th>1</th>\n",
       "      <td>1</td>\n",
       "      <td>10403</td>\n",
       "      <td>387</td>\n",
       "      <td>1</td>\n",
       "      <td>71</td>\n",
       "      <td>4</td>\n",
       "      <td>2018</td>\n",
       "      <td>1</td>\n",
       "      <td>26</td>\n",
       "      <td>11</td>\n",
       "      <td>...</td>\n",
       "      <td>0</td>\n",
       "      <td>10</td>\n",
       "      <td>11</td>\n",
       "      <td>11</td>\n",
       "      <td>1</td>\n",
       "      <td>12</td>\n",
       "      <td>20180206</td>\n",
       "      <td>12</td>\n",
       "      <td>770160</td>\n",
       "      <td>11</td>\n",
       "    </tr>\n",
       "    <tr>\n",
       "      <th>2</th>\n",
       "      <td>2</td>\n",
       "      <td>10403</td>\n",
       "      <td>387</td>\n",
       "      <td>1</td>\n",
       "      <td>71</td>\n",
       "      <td>4</td>\n",
       "      <td>2018</td>\n",
       "      <td>4</td>\n",
       "      <td>23</td>\n",
       "      <td>11</td>\n",
       "      <td>...</td>\n",
       "      <td>0</td>\n",
       "      <td>10</td>\n",
       "      <td>16</td>\n",
       "      <td>16</td>\n",
       "      <td>1</td>\n",
       "      <td>21</td>\n",
       "      <td>20180509</td>\n",
       "      <td>21</td>\n",
       "      <td>1361042</td>\n",
       "      <td>16</td>\n",
       "    </tr>\n",
       "    <tr>\n",
       "      <th>3</th>\n",
       "      <td>3</td>\n",
       "      <td>10318</td>\n",
       "      <td>387</td>\n",
       "      <td>1</td>\n",
       "      <td>71</td>\n",
       "      <td>4</td>\n",
       "      <td>2018</td>\n",
       "      <td>4</td>\n",
       "      <td>23</td>\n",
       "      <td>11</td>\n",
       "      <td>...</td>\n",
       "      <td>0</td>\n",
       "      <td>10</td>\n",
       "      <td>16</td>\n",
       "      <td>16</td>\n",
       "      <td>1</td>\n",
       "      <td>6</td>\n",
       "      <td>20180509</td>\n",
       "      <td>6</td>\n",
       "      <td>532800</td>\n",
       "      <td>16</td>\n",
       "    </tr>\n",
       "    <tr>\n",
       "      <th>4</th>\n",
       "      <td>4</td>\n",
       "      <td>10403</td>\n",
       "      <td>387</td>\n",
       "      <td>1</td>\n",
       "      <td>71</td>\n",
       "      <td>4</td>\n",
       "      <td>2018</td>\n",
       "      <td>5</td>\n",
       "      <td>4</td>\n",
       "      <td>11</td>\n",
       "      <td>...</td>\n",
       "      <td>0</td>\n",
       "      <td>10</td>\n",
       "      <td>41</td>\n",
       "      <td>41</td>\n",
       "      <td>1</td>\n",
       "      <td>25</td>\n",
       "      <td>20180614</td>\n",
       "      <td>25</td>\n",
       "      <td>1687800</td>\n",
       "      <td>41</td>\n",
       "    </tr>\n",
       "  </tbody>\n",
       "</table>\n",
       "<p>5 rows × 31 columns</p>\n",
       "</div>"
      ],
      "text/plain": [
       "   Unnamed: 0  Cod_Producto  id_Proveedor  id_Sucursal  Cod_Bodega  \\\n",
       "0           0         10403           387            1          71   \n",
       "1           1         10403           387            1          71   \n",
       "2           2         10403           387            1          71   \n",
       "3           3         10318           387            1          71   \n",
       "4           4         10403           387            1          71   \n",
       "\n",
       "   Cod_Unidad_Negocio  ano_Orden  mes_Orden  dia_Orden  Cod_Centro_Operativo  \\\n",
       "0                   4       2018          5         11                    11   \n",
       "1                   4       2018          1         26                    11   \n",
       "2                   4       2018          4         23                    11   \n",
       "3                   4       2018          4         23                    11   \n",
       "4                   4       2018          5          4                    11   \n",
       "\n",
       "   ...  Linea_Perfecta Lead_Time_Teorico_Compra Lead_Time_Real_Max_Compra  \\\n",
       "0  ...               0                       10                        34   \n",
       "1  ...               0                       10                        11   \n",
       "2  ...               0                       10                        16   \n",
       "3  ...               0                       10                        16   \n",
       "4  ...               0                       10                        41   \n",
       "\n",
       "   Lead_Time_Real_Min_Compra Conteo_Linea_Compra  Recepcion_Cantidad_Recibida  \\\n",
       "0                         34                   1                            6   \n",
       "1                         11                   1                           12   \n",
       "2                         16                   1                           21   \n",
       "3                         16                   1                            6   \n",
       "4                         41                   1                           25   \n",
       "\n",
       "   Recepcion_Max_Fecha_Real  Recepcion_Cantidad_Primera_Entrega  \\\n",
       "0                  20180614                                   6   \n",
       "1                  20180206                                  12   \n",
       "2                  20180509                                  21   \n",
       "3                  20180509                                   6   \n",
       "4                  20180614                                  25   \n",
       "\n",
       "   Recepcion_Pesos_Primera_Entrega  Lead_Time_Primera_Entrega  \n",
       "0                           405072                         34  \n",
       "1                           770160                         11  \n",
       "2                          1361042                         16  \n",
       "3                           532800                         16  \n",
       "4                          1687800                         41  \n",
       "\n",
       "[5 rows x 31 columns]"
      ]
     },
     "execution_count": 45,
     "metadata": {},
     "output_type": "execute_result"
    }
   ],
   "source": [
    "data = pd.read_excel(\"Copia de Compras.xls\")\n",
    "data.drop([\"Cod_Motivo_Compra\"], axis = \"columns\", inplace = True)\n",
    "data.dropna(how = \"all\", inplace = True)\n",
    "\n",
    "newData = data[\"Id_Proveedor_Sucursal\"].str.split(\"|\", n = 1, expand = True)\n",
    "data.insert(2, column = \"id_Proveedor\", value = newData[0])\n",
    "data.insert(3, column = \"id_Sucursal\", value = newData[1])\n",
    "\n",
    "newFechaOrden = data[\"Fecha_Orden_Compra\"].str.split(\"-\", n = 2, expand = True)\n",
    "data.insert(7, column = \"ano_Orden\", value = newFechaOrden[0].astype(\"int64\"))\n",
    "data.insert(8, column = \"mes_Orden\", value = newFechaOrden[1].astype(\"int64\"))\n",
    "data.insert(9, column = \"dia_Orden\", value = newFechaOrden[2].astype(\"int64\"))\n",
    "\n",
    "#newFechaRecibido = data[\"Recepcion_Max_Fecha_Real\"].str.split(\"-\", n = 2, expand = True)\n",
    "#data.insert(30, column = \"ano_Recepcion\", value = newFechaRecibido[0].astype(\"int64\"))\n",
    "#data.insert(31, column = \"mes_Recepcion\", value = newFechaRecibido[1].astype(\"int64\"))\n",
    "#data.insert(32, column = \"dia_Recepcion\", value = newFechaRecibido[2].astype(\"int64\"))\n",
    "data[\"Recepcion_Max_Fecha_Real\"] = (data[\"Recepcion_Max_Fecha_Real\"].str.replace(\"-\",\"\")).astype(\"int64\")\n",
    "\n",
    "data.drop([\"Id_Proveedor_Sucursal\", \"Fecha_Orden_Compra\"], axis = \"columns\", inplace = True)\n",
    "\n",
    "data[\"id_Proveedor\"] = data[\"id_Proveedor\"].astype(\"int64\")\n",
    "data[\"id_Sucursal\"] = data[\"id_Sucursal\"].astype(\"int64\")\n",
    "data[\"Compra_Cantidad\"] = data[\"Compra_Cantidad\"].astype(\"int64\")\n",
    "data[\"Compra_Pesos\"] = data[\"Compra_Pesos\"].astype(\"int64\")\n",
    "data[\"Compra_Precio_Unitario\"] = data[\"Compra_Precio_Unitario\"].astype(\"int64\")\n",
    "data.info()\n",
    "data.head()"
   ]
  },
  {
   "cell_type": "markdown",
   "metadata": {},
   "source": [
    "### Limpieza de valores atípicos"
   ]
  },
  {
   "cell_type": "code",
   "execution_count": 46,
   "metadata": {},
   "outputs": [
    {
     "data": {
      "text/html": [
       "<div>\n",
       "<style scoped>\n",
       "    .dataframe tbody tr th:only-of-type {\n",
       "        vertical-align: middle;\n",
       "    }\n",
       "\n",
       "    .dataframe tbody tr th {\n",
       "        vertical-align: top;\n",
       "    }\n",
       "\n",
       "    .dataframe thead th {\n",
       "        text-align: right;\n",
       "    }\n",
       "</style>\n",
       "<table border=\"1\" class=\"dataframe\">\n",
       "  <thead>\n",
       "    <tr style=\"text-align: right;\">\n",
       "      <th></th>\n",
       "      <th>Unnamed: 0</th>\n",
       "      <th>Cod_Producto</th>\n",
       "      <th>id_Proveedor</th>\n",
       "      <th>id_Sucursal</th>\n",
       "      <th>Cod_Bodega</th>\n",
       "      <th>Cod_Unidad_Negocio</th>\n",
       "      <th>ano_Orden</th>\n",
       "      <th>mes_Orden</th>\n",
       "      <th>dia_Orden</th>\n",
       "      <th>Cod_Centro_Operativo</th>\n",
       "      <th>...</th>\n",
       "      <th>Linea_Perfecta</th>\n",
       "      <th>Lead_Time_Teorico_Compra</th>\n",
       "      <th>Lead_Time_Real_Max_Compra</th>\n",
       "      <th>Lead_Time_Real_Min_Compra</th>\n",
       "      <th>Conteo_Linea_Compra</th>\n",
       "      <th>Recepcion_Cantidad_Recibida</th>\n",
       "      <th>Recepcion_Max_Fecha_Real</th>\n",
       "      <th>Recepcion_Cantidad_Primera_Entrega</th>\n",
       "      <th>Recepcion_Pesos_Primera_Entrega</th>\n",
       "      <th>Lead_Time_Primera_Entrega</th>\n",
       "    </tr>\n",
       "  </thead>\n",
       "  <tbody>\n",
       "    <tr>\n",
       "      <th>count</th>\n",
       "      <td>9083.000000</td>\n",
       "      <td>9083.000000</td>\n",
       "      <td>9083.000000</td>\n",
       "      <td>9083.000000</td>\n",
       "      <td>9083.000000</td>\n",
       "      <td>9083.000000</td>\n",
       "      <td>9083.000000</td>\n",
       "      <td>9083.000000</td>\n",
       "      <td>9083.000000</td>\n",
       "      <td>9083.000000</td>\n",
       "      <td>...</td>\n",
       "      <td>9083.000000</td>\n",
       "      <td>9083.000000</td>\n",
       "      <td>9083.000000</td>\n",
       "      <td>9083.000000</td>\n",
       "      <td>9083.000000</td>\n",
       "      <td>9083.000000</td>\n",
       "      <td>9.083000e+03</td>\n",
       "      <td>9083.000000</td>\n",
       "      <td>9.083000e+03</td>\n",
       "      <td>9083.000000</td>\n",
       "    </tr>\n",
       "    <tr>\n",
       "      <th>mean</th>\n",
       "      <td>4541.000000</td>\n",
       "      <td>24638.450842</td>\n",
       "      <td>2332.240890</td>\n",
       "      <td>1.019817</td>\n",
       "      <td>117.002422</td>\n",
       "      <td>3.753826</td>\n",
       "      <td>2018.204228</td>\n",
       "      <td>5.238578</td>\n",
       "      <td>16.251018</td>\n",
       "      <td>16.148189</td>\n",
       "      <td>...</td>\n",
       "      <td>0.336122</td>\n",
       "      <td>8.851591</td>\n",
       "      <td>33.870527</td>\n",
       "      <td>33.147088</td>\n",
       "      <td>0.976109</td>\n",
       "      <td>1062.332820</td>\n",
       "      <td>2.006697e+07</td>\n",
       "      <td>867.748982</td>\n",
       "      <td>5.899557e+06</td>\n",
       "      <td>10.807332</td>\n",
       "    </tr>\n",
       "    <tr>\n",
       "      <th>std</th>\n",
       "      <td>2622.180581</td>\n",
       "      <td>12647.602097</td>\n",
       "      <td>6745.482209</td>\n",
       "      <td>0.139380</td>\n",
       "      <td>74.037812</td>\n",
       "      <td>0.434115</td>\n",
       "      <td>0.403158</td>\n",
       "      <td>3.198698</td>\n",
       "      <td>8.437952</td>\n",
       "      <td>4.266019</td>\n",
       "      <td>...</td>\n",
       "      <td>0.472407</td>\n",
       "      <td>6.630194</td>\n",
       "      <td>80.598376</td>\n",
       "      <td>80.717884</td>\n",
       "      <td>0.152717</td>\n",
       "      <td>4808.947111</td>\n",
       "      <td>3.512305e+05</td>\n",
       "      <td>3729.104529</td>\n",
       "      <td>1.085545e+07</td>\n",
       "      <td>9.925381</td>\n",
       "    </tr>\n",
       "    <tr>\n",
       "      <th>min</th>\n",
       "      <td>0.000000</td>\n",
       "      <td>3639.000000</td>\n",
       "      <td>9.000000</td>\n",
       "      <td>1.000000</td>\n",
       "      <td>26.000000</td>\n",
       "      <td>3.000000</td>\n",
       "      <td>2018.000000</td>\n",
       "      <td>1.000000</td>\n",
       "      <td>1.000000</td>\n",
       "      <td>11.000000</td>\n",
       "      <td>...</td>\n",
       "      <td>0.000000</td>\n",
       "      <td>0.000000</td>\n",
       "      <td>0.000000</td>\n",
       "      <td>0.000000</td>\n",
       "      <td>0.000000</td>\n",
       "      <td>0.000000</td>\n",
       "      <td>1.900010e+07</td>\n",
       "      <td>0.000000</td>\n",
       "      <td>0.000000e+00</td>\n",
       "      <td>0.000000</td>\n",
       "    </tr>\n",
       "    <tr>\n",
       "      <th>25%</th>\n",
       "      <td>2270.500000</td>\n",
       "      <td>10401.000000</td>\n",
       "      <td>228.000000</td>\n",
       "      <td>1.000000</td>\n",
       "      <td>73.000000</td>\n",
       "      <td>4.000000</td>\n",
       "      <td>2018.000000</td>\n",
       "      <td>2.000000</td>\n",
       "      <td>9.000000</td>\n",
       "      <td>12.000000</td>\n",
       "      <td>...</td>\n",
       "      <td>0.000000</td>\n",
       "      <td>4.000000</td>\n",
       "      <td>6.000000</td>\n",
       "      <td>6.000000</td>\n",
       "      <td>1.000000</td>\n",
       "      <td>5.000000</td>\n",
       "      <td>2.018033e+07</td>\n",
       "      <td>5.000000</td>\n",
       "      <td>6.035800e+05</td>\n",
       "      <td>5.000000</td>\n",
       "    </tr>\n",
       "    <tr>\n",
       "      <th>50%</th>\n",
       "      <td>4541.000000</td>\n",
       "      <td>28757.000000</td>\n",
       "      <td>386.000000</td>\n",
       "      <td>1.000000</td>\n",
       "      <td>77.000000</td>\n",
       "      <td>4.000000</td>\n",
       "      <td>2018.000000</td>\n",
       "      <td>4.000000</td>\n",
       "      <td>17.000000</td>\n",
       "      <td>15.000000</td>\n",
       "      <td>...</td>\n",
       "      <td>0.000000</td>\n",
       "      <td>8.000000</td>\n",
       "      <td>10.000000</td>\n",
       "      <td>9.000000</td>\n",
       "      <td>1.000000</td>\n",
       "      <td>28.000000</td>\n",
       "      <td>2.018071e+07</td>\n",
       "      <td>25.000000</td>\n",
       "      <td>2.204256e+06</td>\n",
       "      <td>8.000000</td>\n",
       "    </tr>\n",
       "    <tr>\n",
       "      <th>75%</th>\n",
       "      <td>6811.500000</td>\n",
       "      <td>35394.000000</td>\n",
       "      <td>387.000000</td>\n",
       "      <td>1.000000</td>\n",
       "      <td>131.000000</td>\n",
       "      <td>4.000000</td>\n",
       "      <td>2018.000000</td>\n",
       "      <td>8.000000</td>\n",
       "      <td>23.000000</td>\n",
       "      <td>19.000000</td>\n",
       "      <td>...</td>\n",
       "      <td>1.000000</td>\n",
       "      <td>14.000000</td>\n",
       "      <td>19.000000</td>\n",
       "      <td>17.000000</td>\n",
       "      <td>1.000000</td>\n",
       "      <td>200.000000</td>\n",
       "      <td>2.018112e+07</td>\n",
       "      <td>182.000000</td>\n",
       "      <td>6.434733e+06</td>\n",
       "      <td>14.000000</td>\n",
       "    </tr>\n",
       "    <tr>\n",
       "      <th>max</th>\n",
       "      <td>9082.000000</td>\n",
       "      <td>40428.000000</td>\n",
       "      <td>27152.000000</td>\n",
       "      <td>2.000000</td>\n",
       "      <td>311.000000</td>\n",
       "      <td>5.000000</td>\n",
       "      <td>2019.000000</td>\n",
       "      <td>12.000000</td>\n",
       "      <td>31.000000</td>\n",
       "      <td>24.000000</td>\n",
       "      <td>...</td>\n",
       "      <td>1.000000</td>\n",
       "      <td>25.000000</td>\n",
       "      <td>458.000000</td>\n",
       "      <td>458.000000</td>\n",
       "      <td>1.000000</td>\n",
       "      <td>100000.000000</td>\n",
       "      <td>2.019041e+07</td>\n",
       "      <td>80000.000000</td>\n",
       "      <td>1.618800e+08</td>\n",
       "      <td>83.000000</td>\n",
       "    </tr>\n",
       "  </tbody>\n",
       "</table>\n",
       "<p>8 rows × 28 columns</p>\n",
       "</div>"
      ],
      "text/plain": [
       "        Unnamed: 0  Cod_Producto  id_Proveedor  id_Sucursal   Cod_Bodega  \\\n",
       "count  9083.000000   9083.000000   9083.000000  9083.000000  9083.000000   \n",
       "mean   4541.000000  24638.450842   2332.240890     1.019817   117.002422   \n",
       "std    2622.180581  12647.602097   6745.482209     0.139380    74.037812   \n",
       "min       0.000000   3639.000000      9.000000     1.000000    26.000000   \n",
       "25%    2270.500000  10401.000000    228.000000     1.000000    73.000000   \n",
       "50%    4541.000000  28757.000000    386.000000     1.000000    77.000000   \n",
       "75%    6811.500000  35394.000000    387.000000     1.000000   131.000000   \n",
       "max    9082.000000  40428.000000  27152.000000     2.000000   311.000000   \n",
       "\n",
       "       Cod_Unidad_Negocio    ano_Orden    mes_Orden    dia_Orden  \\\n",
       "count         9083.000000  9083.000000  9083.000000  9083.000000   \n",
       "mean             3.753826  2018.204228     5.238578    16.251018   \n",
       "std              0.434115     0.403158     3.198698     8.437952   \n",
       "min              3.000000  2018.000000     1.000000     1.000000   \n",
       "25%              4.000000  2018.000000     2.000000     9.000000   \n",
       "50%              4.000000  2018.000000     4.000000    17.000000   \n",
       "75%              4.000000  2018.000000     8.000000    23.000000   \n",
       "max              5.000000  2019.000000    12.000000    31.000000   \n",
       "\n",
       "       Cod_Centro_Operativo  ...  Linea_Perfecta  Lead_Time_Teorico_Compra  \\\n",
       "count           9083.000000  ...     9083.000000               9083.000000   \n",
       "mean              16.148189  ...        0.336122                  8.851591   \n",
       "std                4.266019  ...        0.472407                  6.630194   \n",
       "min               11.000000  ...        0.000000                  0.000000   \n",
       "25%               12.000000  ...        0.000000                  4.000000   \n",
       "50%               15.000000  ...        0.000000                  8.000000   \n",
       "75%               19.000000  ...        1.000000                 14.000000   \n",
       "max               24.000000  ...        1.000000                 25.000000   \n",
       "\n",
       "       Lead_Time_Real_Max_Compra  Lead_Time_Real_Min_Compra  \\\n",
       "count                9083.000000                9083.000000   \n",
       "mean                   33.870527                  33.147088   \n",
       "std                    80.598376                  80.717884   \n",
       "min                     0.000000                   0.000000   \n",
       "25%                     6.000000                   6.000000   \n",
       "50%                    10.000000                   9.000000   \n",
       "75%                    19.000000                  17.000000   \n",
       "max                   458.000000                 458.000000   \n",
       "\n",
       "       Conteo_Linea_Compra  Recepcion_Cantidad_Recibida  \\\n",
       "count          9083.000000                  9083.000000   \n",
       "mean              0.976109                  1062.332820   \n",
       "std               0.152717                  4808.947111   \n",
       "min               0.000000                     0.000000   \n",
       "25%               1.000000                     5.000000   \n",
       "50%               1.000000                    28.000000   \n",
       "75%               1.000000                   200.000000   \n",
       "max               1.000000                100000.000000   \n",
       "\n",
       "       Recepcion_Max_Fecha_Real  Recepcion_Cantidad_Primera_Entrega  \\\n",
       "count              9.083000e+03                         9083.000000   \n",
       "mean               2.006697e+07                          867.748982   \n",
       "std                3.512305e+05                         3729.104529   \n",
       "min                1.900010e+07                            0.000000   \n",
       "25%                2.018033e+07                            5.000000   \n",
       "50%                2.018071e+07                           25.000000   \n",
       "75%                2.018112e+07                          182.000000   \n",
       "max                2.019041e+07                        80000.000000   \n",
       "\n",
       "       Recepcion_Pesos_Primera_Entrega  Lead_Time_Primera_Entrega  \n",
       "count                     9.083000e+03                9083.000000  \n",
       "mean                      5.899557e+06                  10.807332  \n",
       "std                       1.085545e+07                   9.925381  \n",
       "min                       0.000000e+00                   0.000000  \n",
       "25%                       6.035800e+05                   5.000000  \n",
       "50%                       2.204256e+06                   8.000000  \n",
       "75%                       6.434733e+06                  14.000000  \n",
       "max                       1.618800e+08                  83.000000  \n",
       "\n",
       "[8 rows x 28 columns]"
      ]
     },
     "execution_count": 46,
     "metadata": {},
     "output_type": "execute_result"
    }
   ],
   "source": [
    "data.describe()"
   ]
  },
  {
   "cell_type": "code",
   "execution_count": 47,
   "metadata": {},
   "outputs": [],
   "source": [
    "data = data[data.Recepcion_Max_Fecha_Real != 19000101]"
   ]
  },
  {
   "cell_type": "markdown",
   "metadata": {},
   "source": [
    "## Correlación de campos"
   ]
  },
  {
   "cell_type": "code",
   "execution_count": 48,
   "metadata": {},
   "outputs": [
    {
     "data": {
      "text/plain": [
       "<matplotlib.axes._subplots.AxesSubplot at 0x1e151d4a5f8>"
      ]
     },
     "execution_count": 48,
     "metadata": {},
     "output_type": "execute_result"
    },
    {
     "data": {
      "image/png": "[encoded data removed]",
      "text/plain": [
       "<Figure size 648x576 with 2 Axes>"
      ]
     },
     "metadata": {
      "needs_background": "light"
     },
     "output_type": "display_data"
    }
   ],
   "source": [
    "#Correlación\n",
    "corrmat = data.corr() \n",
    "  \n",
    "f, ax = plt.subplots(figsize =(9, 8)) \n",
    "sns.heatmap(corrmat, ax = ax, cmap =\"YlGnBu\", linewidths = 0.1) "
   ]
  },
  {
   "cell_type": "code",
   "execution_count": null,
   "metadata": {},
   "outputs": [],
   "source": []
  },
  {
   "cell_type": "markdown",
   "metadata": {},
   "source": [
    "## Limpieza de variables con conrrelación alta"
   ]
  },
  {
   "cell_type": "code",
   "execution_count": 49,
   "metadata": {},
   "outputs": [
    {
     "data": {
      "text/plain": [
       "<matplotlib.axes._subplots.AxesSubplot at 0x1e151d684a8>"
      ]
     },
     "execution_count": 49,
     "metadata": {},
     "output_type": "execute_result"
    },
    {
     "data": {
      "image/png": "[encoded data removed]",
      "text/plain": [
       "<Figure size 648x576 with 2 Axes>"
      ]
     },
     "metadata": {
      "needs_background": "light"
     },
     "output_type": "display_data"
    }
   ],
   "source": [
    "data.drop([\"Cod_Tipo_Documento\",\"Unnamed: 0\",\"Cod_Centro_Costos\",\"Cod_Centro_Operativo\", \"Compra_Moneda\", \"Linea_Perfecta\", \"Recepcion_Cantidad_Recibida\", \"Lead_Time_Real_Min_Compra\", \"Numero_Orden_Compra\", \"Linea_Orden_Compra\", \"Fecha_Entrega_Planeada\",\"Lead_Time_Teorico_Compra\", \"Recepcion_Cantidad_Primera_Entrega\", \"Recepcion_Pesos_Primera_Entrega\", \"Lead_Time_Primera_Entrega\"], axis = \"columns\", inplace = True)\n",
    "corrmat = data.corr() \n",
    "  \n",
    "f, ax = plt.subplots(figsize =(9, 8)) \n",
    "sns.heatmap(corrmat, ax = ax, cmap =\"YlGnBu\", linewidths = 0.1)"
   ]
  },
  {
   "cell_type": "markdown",
   "metadata": {},
   "source": [
    "## Exploración de clusterización"
   ]
  },
  {
   "cell_type": "code",
   "execution_count": 50,
   "metadata": {},
   "outputs": [
    {
     "data": {
      "text/plain": [
       "<seaborn.matrix.ClusterGrid at 0x1e14f436f98>"
      ]
     },
     "execution_count": 50,
     "metadata": {},
     "output_type": "execute_result"
    },
    {
     "data": {
      "image/png": "[encoded data removed]",
      "text/plain": [
       "<Figure size 720x720 with 4 Axes>"
      ]
     },
     "metadata": {
      "needs_background": "light"
     },
     "output_type": "display_data"
    }
   ],
   "source": [
    "corrmat = data.corr() \n",
    "  \n",
    "cg = sns.clustermap(corrmat, cmap =\"YlGnBu\", linewidths = 0.1); \n",
    "plt.setp(cg.ax_heatmap.yaxis.get_majorticklabels(), rotation = 0) \n",
    "  \n",
    "cg "
   ]
  },
  {
   "cell_type": "code",
   "execution_count": 51,
   "metadata": {
    "scrolled": false
   },
   "outputs": [
    {
     "name": "stdout",
     "output_type": "stream",
     "text": [
      "<class 'pandas.core.frame.DataFrame'>\n",
      "Int64Index: 8195 entries, 0 to 9082\n",
      "Data columns (total 16 columns):\n",
      "Cod_Producto                 8195 non-null int64\n",
      "id_Proveedor                 8195 non-null int64\n",
      "id_Sucursal                  8195 non-null int64\n",
      "Cod_Bodega                   8195 non-null int64\n",
      "Cod_Unidad_Negocio           8195 non-null int64\n",
      "ano_Orden                    8195 non-null int64\n",
      "mes_Orden                    8195 non-null int64\n",
      "dia_Orden                    8195 non-null int64\n",
      "Compra_Cantidad              8195 non-null int64\n",
      "Compra_Pesos                 8195 non-null int64\n",
      "Compra_Precio_Unitario       8195 non-null int64\n",
      "Linea_a_Tiempo               8195 non-null int64\n",
      "Linea_Completa               8195 non-null int64\n",
      "Lead_Time_Real_Max_Compra    8195 non-null int64\n",
      "Conteo_Linea_Compra          8195 non-null int64\n",
      "Recepcion_Max_Fecha_Real     8195 non-null int64\n",
      "dtypes: int64(16)\n",
      "memory usage: 1.1 MB\n"
     ]
    }
   ],
   "source": [
    "data.info()\n",
    "data.to_excel(\"ComprasClean.xlsx\")"
   ]
  },
  {
   "cell_type": "markdown",
   "metadata": {},
   "source": [
    "## Separación entre descriptores y variable objetivo"
   ]
  },
  {
   "cell_type": "code",
   "execution_count": 52,
   "metadata": {},
   "outputs": [],
   "source": [
    "feat = data.drop(columns = [\"Recepcion_Max_Fecha_Real\"], axis = 1)\n",
    "label = data[\"Recepcion_Max_Fecha_Real\"]\n",
    "#[\"Compra_Cantidad\", \"Compra_Pesos\", \"Compra_Precio_Unitario\", \"Lead_Time_Real_Max_Compra\", \"ano_Recepcion\", \"mes_Recepcion\", \"dia_Recepcion\"]"
   ]
  },
  {
   "cell_type": "code",
   "execution_count": 53,
   "metadata": {},
   "outputs": [],
   "source": [
    "from sklearn.model_selection import train_test_split\n",
    "from xgboost import XGBClassifier\n",
    "from sklearn.multiclass import OneVsRestClassifier\n",
    "from sklearn.preprocessing import MultiLabelBinarizer\n",
    "from sklearn.metrics import confusion_matrix\n",
    "from sklearn.metrics import accuracy_score"
   ]
  },
  {
   "cell_type": "markdown",
   "metadata": {},
   "source": [
    "## Separación del dataset en datos de entrenamiento y prueba"
   ]
  },
  {
   "cell_type": "code",
   "execution_count": 54,
   "metadata": {},
   "outputs": [],
   "source": [
    "X_train, X_test, y_train, y_test = train_test_split(feat, label, test_size = 0.2)"
   ]
  },
  {
   "cell_type": "code",
   "execution_count": 55,
   "metadata": {},
   "outputs": [],
   "source": [
    "#xgb_clf = OneVsRestClassifier(XGBClassifier(learning_rate =0.1,\n",
    " #n_estimators=50,\n",
    " #max_depth=5,\n",
    " #min_child_weight=1,\n",
    " #gamma=0,\n",
    " #subsample=0.8,\n",
    " #colsample_bytree=0.8,\n",
    " #objective='multi:softmax',\n",
    "#num_class = 6,\n",
    " #nthread=4,\n",
    " #scale_pos_weight=1,\n",
    " #seed=27))\n",
    "#mlb = MultiLabelBinarizer()\n",
    "#y_train_multi = mlb.fit_transform(y_train)\n",
    "\n",
    "#xgb_clf.fit(X_train, y_train_multi)"
   ]
  },
  {
   "cell_type": "markdown",
   "metadata": {},
   "source": [
    "## Creación del modelo con técnica de arboles y entrenamiento"
   ]
  },
  {
   "cell_type": "code",
   "execution_count": 56,
   "metadata": {},
   "outputs": [
    {
     "data": {
      "text/plain": [
       "XGBClassifier(base_score=0.5, booster='gbtree', colsample_bylevel=1,\n",
       "              colsample_bynode=1, colsample_bytree=1, gamma=0,\n",
       "              learning_rate=0.1, max_delta_step=0, max_depth=3,\n",
       "              min_child_weight=1, missing=None, n_estimators=100, n_jobs=-1,\n",
       "              nthread=None, objective='multi:softprob', random_state=0,\n",
       "              reg_alpha=0, reg_lambda=1, scale_pos_weight=1, seed=None,\n",
       "              silent=None, subsample=1, verbosity=1)"
      ]
     },
     "execution_count": 56,
     "metadata": {},
     "output_type": "execute_result"
    }
   ],
   "source": [
    "xgb_classifier = XGBClassifier(n_jobs = -1)\n",
    "xgb_classifier.fit(X_train,y_train)\n"
   ]
  },
  {
   "cell_type": "markdown",
   "metadata": {},
   "source": [
    "## Predicción de la fecha real de recepción"
   ]
  },
  {
   "cell_type": "code",
   "execution_count": 57,
   "metadata": {},
   "outputs": [],
   "source": [
    "y_pred_xgb = xgb_classifier.predict(X_test)"
   ]
  },
  {
   "cell_type": "markdown",
   "metadata": {},
   "source": [
    "## Cálculo del error para cada predicción"
   ]
  },
  {
   "cell_type": "code",
   "execution_count": 58,
   "metadata": {},
   "outputs": [],
   "source": [
    "error = ((((y_pred_xgb - y_test)) / y_test)*100).abs()"
   ]
  },
  {
   "cell_type": "markdown",
   "metadata": {},
   "source": [
    "## Cálculo de precisión de valores exactos"
   ]
  },
  {
   "cell_type": "code",
   "execution_count": 59,
   "metadata": {},
   "outputs": [
    {
     "name": "stdout",
     "output_type": "stream",
     "text": [
      "Accuracy: 50.15%\n"
     ]
    }
   ],
   "source": [
    "accuracy = accuracy_score(y_test, y_pred_xgb)\n",
    "print(\"Accuracy: %.2f%%\" % (accuracy * 100.0))"
   ]
  },
  {
   "cell_type": "code",
   "execution_count": null,
   "metadata": {},
   "outputs": [],
   "source": []
  },
  {
   "cell_type": "code",
   "execution_count": null,
   "metadata": {},
   "outputs": [],
   "source": []
  },
  {
   "cell_type": "markdown",
   "metadata": {},
   "source": [
    "## Creación del modelo con técnica de regresión linear y entrenamiento"
   ]
  },
  {
   "cell_type": "code",
   "execution_count": 60,
   "metadata": {},
   "outputs": [
    {
     "data": {
      "text/plain": [
       "XGBClassifier(base_score=0.5, booster='gblinear', colsample_bylevel=1,\n",
       "              colsample_bynode=1, colsample_bytree=1, gamma=0,\n",
       "              learning_rate=0.1, max_delta_step=0, max_depth=3,\n",
       "              min_child_weight=1, missing=None, n_estimators=100, n_jobs=-1,\n",
       "              nthread=None, objective='multi:softprob', random_state=0,\n",
       "              reg_alpha=0, reg_lambda=1, scale_pos_weight=1, seed=None,\n",
       "              silent=None, subsample=1, verbosity=1)"
      ]
     },
     "execution_count": 60,
     "metadata": {},
     "output_type": "execute_result"
    }
   ],
   "source": [
    "xgb_classifier_linear = XGBClassifier(n_jobs = -1, booster = 'gblinear')\n",
    "xgb_classifier_linear.fit(X_train,y_train)\n"
   ]
  },
  {
   "cell_type": "markdown",
   "metadata": {},
   "source": [
    "## Predicción de la fecha real de recepción "
   ]
  },
  {
   "cell_type": "code",
   "execution_count": 61,
   "metadata": {},
   "outputs": [],
   "source": [
    "y_pred_xgb_linear = xgb_classifier_linear.predict(X_test)"
   ]
  },
  {
   "cell_type": "markdown",
   "metadata": {},
   "source": [
    "## Cálculo del error para cada predicción"
   ]
  },
  {
   "cell_type": "code",
   "execution_count": 62,
   "metadata": {},
   "outputs": [],
   "source": [
    "error_linear = ((((y_pred_xgb_linear - y_test)) / y_test)*100).abs()"
   ]
  },
  {
   "cell_type": "markdown",
   "metadata": {},
   "source": []
  },
  {
   "cell_type": "markdown",
   "metadata": {},
   "source": [
    "## Cálculo de precisión de valores exactos"
   ]
  },
  {
   "cell_type": "code",
   "execution_count": 63,
   "metadata": {},
   "outputs": [
    {
     "name": "stdout",
     "output_type": "stream",
     "text": [
      "Accuracy: 50.15%\n"
     ]
    }
   ],
   "source": [
    "accuracy_linear = accuracy_score(y_test, y_pred_xgb_linear)\n",
    "print(\"Accuracy: %.2f%%\" % (accuracy * 100.0))"
   ]
  },
  {
   "cell_type": "markdown",
   "metadata": {},
   "source": [
    "## Cálculo deor la estadística básica para cada error"
   ]
  },
  {
   "cell_type": "code",
   "execution_count": 64,
   "metadata": {},
   "outputs": [
    {
     "data": {
      "text/plain": [
       "count    1639.000000\n",
       "mean        0.013957\n",
       "std         0.020915\n",
       "min         0.000000\n",
       "25%         0.000515\n",
       "50%         0.001546\n",
       "75%         0.045587\n",
       "max         0.050940\n",
       "Name: Recepcion_Max_Fecha_Real, dtype: float64"
      ]
     },
     "execution_count": 64,
     "metadata": {},
     "output_type": "execute_result"
    }
   ],
   "source": [
    "error_linear.describe()"
   ]
  },
  {
   "cell_type": "code",
   "execution_count": 65,
   "metadata": {},
   "outputs": [
    {
     "data": {
      "text/plain": [
       "count    1639.000000\n",
       "mean        0.000134\n",
       "std         0.001888\n",
       "min         0.000000\n",
       "25%         0.000000\n",
       "50%         0.000000\n",
       "75%         0.000025\n",
       "max         0.044130\n",
       "Name: Recepcion_Max_Fecha_Real, dtype: float64"
      ]
     },
     "execution_count": 65,
     "metadata": {},
     "output_type": "execute_result"
    }
   ],
   "source": [
    "error.describe()"
   ]
  },
  {
   "cell_type": "code",
   "execution_count": null,
   "metadata": {},
   "outputs": [],
   "source": []
  }
 ],
 "metadata": {
  "kernelspec": {
   "display_name": "Python 3",
   "language": "python",
   "name": "python3"
  },
  "language_info": {
   "codemirror_mode": {
    "name": "ipython",
    "version": 3
   },
   "file_extension": ".py",
   "mimetype": "text/x-python",
   "name": "python",
   "nbconvert_exporter": "python",
   "pygments_lexer": "ipython3",
   "version": "3.7.3"
  }
 },
 "nbformat": 4,
 "nbformat_minor": 2
}
